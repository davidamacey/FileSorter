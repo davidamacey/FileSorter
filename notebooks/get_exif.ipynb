{
 "cells": [
  {
   "cell_type": "code",
   "execution_count": null,
   "metadata": {},
   "outputs": [],
   "source": [
    "from exiftool import ExifToolHelper\n",
    "from os import path, listdir, remove, walk\n",
    "from concurrent.futures import ThreadPoolExecutor\n",
    "from hashlib import md5\n",
    "from collections import defaultdict\n",
    "from datetime import datetime"
   ]
  },
  {
   "cell_type": "code",
   "execution_count": null,
   "metadata": {},
   "outputs": [],
   "source": [
    "# !sudo apt install exiftool"
   ]
  },
  {
   "cell_type": "code",
   "execution_count": null,
   "metadata": {},
   "outputs": [],
   "source": [
    "test_pic = '/mnt/nas/pics_test_date_correct/2023-05-31/IMG_4744.MOV'"
   ]
  },
  {
   "cell_type": "code",
   "execution_count": null,
   "metadata": {},
   "outputs": [],
   "source": [
    "test_pic = '/mnt/nas/Pictures/2009-12-21/IMG_0244.MOV'"
   ]
  },
  {
   "cell_type": "code",
   "execution_count": null,
   "metadata": {},
   "outputs": [],
   "source": [
    "test_pic = '/mnt/nas/imports_gopro/iphone_18MAY/190APPLE/IMG_0739.AAE'"
   ]
  },
  {
   "cell_type": "code",
   "execution_count": null,
   "metadata": {},
   "outputs": [],
   "source": [
    "test_pic = '/mnt/nas/Pictures/00_no_date_found/IMG_0278.AAE'"
   ]
  },
  {
   "cell_type": "code",
   "execution_count": null,
   "metadata": {},
   "outputs": [],
   "source": [
    "with ExifToolHelper() as et:\n",
    "    output = et.get_metadata(test_pic)[0]\n",
    "output"
   ]
  },
  {
   "cell_type": "code",
   "execution_count": null,
   "metadata": {},
   "outputs": [],
   "source": [
    "output['File:FileType']"
   ]
  },
  {
   "cell_type": "code",
   "execution_count": null,
   "metadata": {},
   "outputs": [],
   "source": [
    "date_tags = [\n",
    "            'QuickTime:CreateDate',\n",
    "            'QuickTime:CreationDate',\n",
    "            'EXIF:CreateDate',\n",
    "            'EXIF:DateTimeOriginal',\n",
    "            'File:ModificationDate',  # Skip because throws no date for .AAE files\n",
    "            'File:FileModifyDate',\n",
    "            # 'File:FileAccessDate',\n",
    "            # 'File:FileInodeChangeDate'\n",
    "        ]"
   ]
  },
  {
   "cell_type": "code",
   "execution_count": null,
   "metadata": {},
   "outputs": [],
   "source": [
    "[date_tags[5]]"
   ]
  },
  {
   "cell_type": "code",
   "execution_count": null,
   "metadata": {},
   "outputs": [],
   "source": [
    "images_list = [path.join(dir,x) for x in listdir(dir) if not x.startswith('.')]\n",
    "images_list"
   ]
  },
  {
   "cell_type": "code",
   "execution_count": null,
   "metadata": {},
   "outputs": [],
   "source": [
    "len(images_list)"
   ]
  },
  {
   "cell_type": "code",
   "execution_count": null,
   "metadata": {},
   "outputs": [],
   "source": [
    "def get_date(item):\n",
    "    date = False\n",
    "    try:\n",
    "        with ExifToolHelper() as et:\n",
    "            output = et.get_metadata(item)[0]\n",
    "    except:\n",
    "        return(item)\n",
    "    if output.get('EXIF:CreateDate') is not None:\n",
    "        date = output.get('EXIF:CreateDate')\n",
    "    elif output.get('QuickTime:CreateDate') is not None:\n",
    "        date = output.get('QuickTime:CreateDate')\n",
    "    elif output.get('File:FileModifyDate') is not None:\n",
    "        date = output.get('File:FileModifyDate')\n",
    "    \n",
    "    if date == False:\n",
    "        return None\n",
    "    else:\n",
    "        return date"
   ]
  },
  {
   "cell_type": "code",
   "execution_count": null,
   "metadata": {},
   "outputs": [],
   "source": [
    "def get_media_date(file):\n",
    "        date = None\n",
    "        try:\n",
    "            with ExifToolHelper() as et:\n",
    "                output = et.get_metadata(file)[0]\n",
    "        except:\n",
    "            return None\n",
    "        \n",
    "        # Handle video files specifically\n",
    "        # if file.lower().endswith(('.mov', '.mp4', '.avi')):  # Add other video formats as needed\n",
    "        if 'QuickTime:CreationDate' in output:\n",
    "            print('creationdate')\n",
    "            date_str = output['QuickTime:CreationDate']\n",
    "            # Parse the date and time along with the timezone\n",
    "            try:\n",
    "                date = datetime.strptime(date_str, '%Y:%m:%d %H:%M:%S%z').astimezone()\n",
    "            except ValueError:\n",
    "                date = None\n",
    "        elif 'QuickTime:CreateDate' in output:\n",
    "            print('createdate')\n",
    "            date_str = output['QuickTime:CreateDate']\n",
    "            # Parse the date and time along with the timezone\n",
    "            try:\n",
    "                date = datetime.strptime(date_str, '%Y:%m:%d %H:%M:%S')\n",
    "            except ValueError:\n",
    "                date = None\n",
    "        elif'EXIF:CreateDate' in output:\n",
    "                print('second')\n",
    "                date_str = output['EXIF:CreateDate']\n",
    "                try:\n",
    "                    date = datetime.strptime(date_str, '%Y:%m:%d %H:%M:%S')\n",
    "                except ValueError:\n",
    "                    date = None\n",
    "        elif'EXIF:DateTimeOriginal' in output:\n",
    "                print('third')\n",
    "                date_str = output['EXIF:DateTimeOriginal']\n",
    "                try:\n",
    "                    date = datetime.strptime(date_str, '%Y:%m:%d %H:%M:%S')\n",
    "                except ValueError:\n",
    "                    date = None\n",
    "        elif output.get('File:FileModifyDate'):\n",
    "            print('foruth')\n",
    "            date = output.get('File:FileModifyDate')\n",
    "            date = datetime.strptime(date, '%Y:%m:%d %H:%M:%S%z').astimezone()\n",
    "        else:\n",
    "            date = None\n",
    "            \n",
    "        # Return the date or none\n",
    "        if date:\n",
    "            return date.strftime('%Y-%m-%d %H:%M:%S')\n",
    "        else:\n",
    "            return None"
   ]
  },
  {
   "cell_type": "code",
   "execution_count": null,
   "metadata": {},
   "outputs": [],
   "source": [
    "get_media_date(test_pic)"
   ]
  },
  {
   "cell_type": "code",
   "execution_count": null,
   "metadata": {},
   "outputs": [],
   "source": []
  },
  {
   "cell_type": "code",
   "execution_count": null,
   "metadata": {},
   "outputs": [],
   "source": [
    "test_date = get_date(test_pic)"
   ]
  },
  {
   "cell_type": "code",
   "execution_count": null,
   "metadata": {},
   "outputs": [],
   "source": [
    "datetime.strptime(test_date, '%Y:%m:%d %H:%M:%S').astimezone()"
   ]
  },
  {
   "cell_type": "code",
   "execution_count": null,
   "metadata": {},
   "outputs": [],
   "source": [
    "with ThreadPoolExecutor() as executor:\n",
    "    results = list(executor.map(get_date, images_list))"
   ]
  },
  {
   "cell_type": "code",
   "execution_count": null,
   "metadata": {},
   "outputs": [],
   "source": [
    "len(results)"
   ]
  },
  {
   "cell_type": "code",
   "execution_count": null,
   "metadata": {},
   "outputs": [],
   "source": [
    "results"
   ]
  },
  {
   "cell_type": "code",
   "execution_count": null,
   "metadata": {},
   "outputs": [],
   "source": [
    "from datetime import datetime"
   ]
  },
  {
   "cell_type": "code",
   "execution_count": null,
   "metadata": {},
   "outputs": [],
   "source": [
    "new_date = datetime.strptime(results[0].split(' ')[0], \"%Y:%m:%d\")"
   ]
  },
  {
   "cell_type": "code",
   "execution_count": null,
   "metadata": {},
   "outputs": [],
   "source": [
    "new_date.strftime(\"%Y-%m-%d\")\n",
    "                    "
   ]
  },
  {
   "cell_type": "code",
   "execution_count": null,
   "metadata": {},
   "outputs": [],
   "source": [
    "[x for x in results if 'pictures' in x]"
   ]
  },
  {
   "cell_type": "code",
   "execution_count": null,
   "metadata": {},
   "outputs": [],
   "source": [
    "for img in images_list:\n",
    "    date = False\n",
    "    with ExifToolHelper() as et:\n",
    "        output = et.get_metadata(img)[0]\n",
    "    if output.get('EXIF:CreateDate') is not None:\n",
    "        date = True\n",
    "    elif output.get('QuickTime:CreateDate') is not None:\n",
    "        date = True\n",
    "    elif output.get('File:FileModifyDate') is not None:\n",
    "        date = True\n",
    "    \n",
    "    if date == False:\n",
    "        print(img)\n",
    "    "
   ]
  },
  {
   "cell_type": "markdown",
   "metadata": {},
   "source": [
    "# Remove duplicates from a folder"
   ]
  },
  {
   "cell_type": "code",
   "execution_count": null,
   "metadata": {},
   "outputs": [],
   "source": [
    "def find_and_remove_duplicate_files(directory):\n",
    "    # Create a dictionary to store files with the same initial 8 characters\n",
    "    file_dict = {}\n",
    "    \n",
    "    for root, _, files in walk(directory):\n",
    "        for filename in files:\n",
    "            # Extract the first 8 characters of the filename\n",
    "            key = filename[:8]\n",
    "            full_path = path.join(root, filename)\n",
    "            \n",
    "            if key in file_dict:\n",
    "                # A file with the same first 8 characters exists, check for duplicate content\n",
    "                existing_file = file_dict[key]\n",
    "                \n",
    "                # Calculate the hash of the existing file\n",
    "                existing_hash = md5(open(existing_file, 'rb').read()).hexdigest()\n",
    "                \n",
    "                # Calculate the hash of the current file\n",
    "                current_hash = md5(open(full_path, 'rb').read()).hexdigest()\n",
    "                \n",
    "                if existing_hash == current_hash:\n",
    "                    # If hashes are the same, remove the current file\n",
    "                    print(f\"Removing duplicate: {full_path}\")\n",
    "                    # remove(full_path)\n",
    "                else:\n",
    "                    # If hashes are different, add this file to the dictionary\n",
    "                    file_dict[key] = full_path\n",
    "            else:\n",
    "                # No file with the same initial 8 characters, add to the dictionary\n",
    "                file_dict[key] = full_path\n"
   ]
  },
  {
   "cell_type": "code",
   "execution_count": null,
   "metadata": {},
   "outputs": [],
   "source": [
    "# Usage example\n",
    "directory_path = '/mnt/nas/TEST_SORT_OUTPUT/2021-07-24/'\n",
    "find_and_remove_duplicate_files(directory_path)"
   ]
  },
  {
   "cell_type": "code",
   "execution_count": null,
   "metadata": {},
   "outputs": [],
   "source": [
    "def find_and_remove_duplicates(directory):\n",
    "    \"\"\"\n",
    "    Find and remove duplicate files from a list based on their content hash and extension.\n",
    "\n",
    "    Args:\n",
    "        file_list (list): A list of file names to be processed.\n",
    "\n",
    "    Returns:\n",
    "        list: The list with duplicate files removed.\n",
    "    \"\"\"\n",
    "    \n",
    "    images_list = [path.join(directory,x) for x in listdir(directory) if not x.startswith('.')]\n",
    "    images_list.sort()\n",
    "    \n",
    "    # Create a dictionary to store files by their (hash, extension) tuple\n",
    "    file_dict = {}\n",
    "    cleaned_list = []\n",
    "\n",
    "    for filename in images_list:\n",
    "        # Extract the file extension\n",
    "        file_ext = filename.split('.')[-1]\n",
    "\n",
    "        # Calculate the hash of the current file\n",
    "        file_hash = md5(open(filename, 'rb').read()).hexdigest()\n",
    "\n",
    "        # Create a (hash, extension) tuple to check for duplicates\n",
    "        file_tuple = (file_hash, file_ext)\n",
    "\n",
    "        if file_tuple not in file_dict:\n",
    "            # If this (hash, extension) combination is not in the dictionary, add it\n",
    "            file_dict[file_tuple] = filename\n",
    "            cleaned_list.append(filename)\n",
    "        else:\n",
    "            # If it already exists, it's a duplicate, so don't add it to the cleaned list\n",
    "            print(f\"Removing duplicate: {filename}\")\n",
    "\n",
    "    return cleaned_list"
   ]
  },
  {
   "cell_type": "code",
   "execution_count": null,
   "metadata": {},
   "outputs": [],
   "source": [
    "# Remove duplicate files and store the cleaned list\n",
    "cleaned_list = find_and_remove_duplicates(directory_path)\n",
    "\n",
    "# Print the cleaned list\n",
    "# print(\"Cleaned list:\")\n",
    "# for filename in cleaned_list:\n",
    "#     print(filename)"
   ]
  },
  {
   "cell_type": "code",
   "execution_count": null,
   "metadata": {},
   "outputs": [],
   "source": [
    "listdir('/mnt/nas/TEST_SORT_OUTPUT/2021-07-24/')"
   ]
  },
  {
   "cell_type": "code",
   "execution_count": null,
   "metadata": {},
   "outputs": [],
   "source": [
    "dir_check_path = '/mnt/nas/TEST_SORT_OUTPUT/2021-07-24/'\n",
    "list_dir_check = [path.join(dir_check_path,x) for x in listdir(dir_check_path) if not x.startswith('.')]\n",
    "list_dir_check"
   ]
  },
  {
   "cell_type": "code",
   "execution_count": null,
   "metadata": {},
   "outputs": [],
   "source": [
    "for index, item in enumerate(list_dir_check):\n",
    "    key = item.split(\" \")[0]\n",
    "    same_filename = [x for x in list_dir_check if key in x]\n",
    "    same_filename.sort()\n",
    "    if len(same_filename) > 1:\n",
    "        print(same_filename)\n",
    "        temp_list = []\n",
    "        for file in same_filename:\n",
    "            \n",
    "        if index == 2:\n",
    "            break\n",
    "        \n",
    "            \n",
    "    "
   ]
  },
  {
   "cell_type": "code",
   "execution_count": null,
   "metadata": {},
   "outputs": [],
   "source": [
    "# Function to calculate the hash of a file\n",
    "def hash_file(file_path):\n",
    "    hasher = md5()\n",
    "    with open(file_path, 'rb') as f:\n",
    "        while True:\n",
    "            data = f.read(65536)  # Read in 64k chunks\n",
    "            if not data:\n",
    "                break\n",
    "            hasher.update(data)\n",
    "    return hasher.hexdigest()\n",
    "\n",
    "# Directory containing your files\n",
    "directory = '/mnt/nas/TEST_SORT_OUTPUT/2021-07-24/'\n",
    "\n",
    "# Create a dictionary to store file hashes\n",
    "file_hashes = defaultdict(list)\n",
    "\n",
    "# Traverse the directory and calculate hashes for all files\n",
    "for root, dirs, files in walk(directory):\n",
    "    for file in files:\n",
    "        file_path = path.join(root, file)\n",
    "        file_hash = hash_file(file_path)\n",
    "        file_hashes[file_hash].append(file_path)\n",
    "\n",
    "# Find duplicate files\n",
    "duplicates = {hash: paths for hash, paths in file_hashes.items() if len(paths) > 1}\n",
    "\n",
    "# Remove duplicates\n",
    "for paths in duplicates.values():\n",
    "    # Sort by file length, and keep the shortest one\n",
    "    paths.sort(key=len)\n",
    "    for path in paths[1:]:\n",
    "        # remove(path)\n",
    "        print(f\"Removed duplicate: {path}\")\n",
    "\n",
    "print(\"Duplicate removal complete.\")\n"
   ]
  },
  {
   "cell_type": "code",
   "execution_count": null,
   "metadata": {},
   "outputs": [],
   "source": []
  },
  {
   "cell_type": "code",
   "execution_count": null,
   "metadata": {},
   "outputs": [],
   "source": [
    "find_and_remove_duplicate_files(dir_check_path)"
   ]
  },
  {
   "cell_type": "code",
   "execution_count": null,
   "metadata": {},
   "outputs": [],
   "source": [
    "with ThreadPoolExecutor() as executor:\n",
    "    executor.map(find_and_remove_duplicate_files, list_dir_check)"
   ]
  }
 ],
 "metadata": {
  "kernelspec": {
   "display_name": ".ienv",
   "language": "python",
   "name": "python3"
  },
  "language_info": {
   "codemirror_mode": {
    "name": "ipython",
    "version": 3
   },
   "file_extension": ".py",
   "mimetype": "text/x-python",
   "name": "python",
   "nbconvert_exporter": "python",
   "pygments_lexer": "ipython3",
   "version": "3.10.12"
  }
 },
 "nbformat": 4,
 "nbformat_minor": 2
}
