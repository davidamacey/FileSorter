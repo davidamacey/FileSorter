{
 "cells": [
  {
   "cell_type": "code",
   "execution_count": 1,
   "metadata": {},
   "outputs": [],
   "source": [
    "from exiftool import ExifToolHelper\n",
    "from os import path, listdir, remove, walk\n",
    "from concurrent.futures import ThreadPoolExecutor\n",
    "from hashlib import md5\n",
    "from collections import defaultdict\n",
    "from datetime import datetime"
   ]
  },
  {
   "cell_type": "code",
   "execution_count": null,
   "metadata": {},
   "outputs": [],
   "source": [
    "# !sudo apt install exiftool"
   ]
  },
  {
   "cell_type": "code",
   "execution_count": 44,
   "metadata": {},
   "outputs": [],
   "source": [
    "test_pic = '/mnt/nas/pics_test_date_correct/2023-05-31/IMG_4744.MOV'"
   ]
  },
  {
   "cell_type": "code",
   "execution_count": 42,
   "metadata": {},
   "outputs": [],
   "source": [
    "test_pic = '/mnt/nas/Pictures/2009-12-21/IMG_0244.MOV'"
   ]
  },
  {
   "cell_type": "code",
   "execution_count": 45,
   "metadata": {},
   "outputs": [
    {
     "data": {
      "text/plain": [
       "{'SourceFile': '/mnt/nas/pics_test_date_correct/2023-05-31/IMG_4744.MOV',\n",
       " 'ExifTool:ExifToolVersion': 12.4,\n",
       " 'ExifTool:Warning': '[minor] The ExtractEmbedded option may find more tags in the media data',\n",
       " 'File:FileName': 'IMG_4744.MOV',\n",
       " 'File:Directory': '/mnt/nas/pics_test_date_correct/2023-05-31',\n",
       " 'File:FileSize': 85664355,\n",
       " 'File:FileModifyDate': '2023:05:31 08:41:31-04:00',\n",
       " 'File:FileAccessDate': '2024:01:14 05:44:01-05:00',\n",
       " 'File:FileInodeChangeDate': '2024:01:14 05:38:58-05:00',\n",
       " 'File:FilePermissions': 100664,\n",
       " 'File:FileType': 'MOV',\n",
       " 'File:FileTypeExtension': 'MOV',\n",
       " 'File:MIMEType': 'video/quicktime',\n",
       " 'QuickTime:MajorBrand': 'qt  ',\n",
       " 'QuickTime:MinorVersion': '0.0.0',\n",
       " 'QuickTime:CompatibleBrands': ['qt  '],\n",
       " 'QuickTime:MediaDataSize': 85652571,\n",
       " 'QuickTime:MediaDataOffset': 36,\n",
       " 'QuickTime:MovieHeaderVersion': 0,\n",
       " 'QuickTime:CreateDate': '2023:05:31 12:41:31',\n",
       " 'QuickTime:ModifyDate': '2023:05:31 12:41:31',\n",
       " 'QuickTime:TimeScale': 600,\n",
       " 'QuickTime:Duration': 14.85,\n",
       " 'QuickTime:PreferredRate': 1,\n",
       " 'QuickTime:PreferredVolume': 1,\n",
       " 'QuickTime:PreviewTime': 0,\n",
       " 'QuickTime:PreviewDuration': 0,\n",
       " 'QuickTime:PosterTime': 0,\n",
       " 'QuickTime:SelectionTime': 0,\n",
       " 'QuickTime:SelectionDuration': 0,\n",
       " 'QuickTime:CurrentTime': 0,\n",
       " 'QuickTime:NextTrackID': 6,\n",
       " 'QuickTime:TrackHeaderVersion': 0,\n",
       " 'QuickTime:TrackCreateDate': '2023:05:31 12:41:31',\n",
       " 'QuickTime:TrackModifyDate': '2023:05:31 12:41:31',\n",
       " 'QuickTime:TrackID': 1,\n",
       " 'QuickTime:TrackDuration': 14.85,\n",
       " 'QuickTime:TrackLayer': 0,\n",
       " 'QuickTime:TrackVolume': 0,\n",
       " 'QuickTime:ImageWidth': 3840,\n",
       " 'QuickTime:ImageHeight': 2160,\n",
       " 'QuickTime:CleanApertureDimensions': '3840 2160',\n",
       " 'QuickTime:ProductionApertureDimensions': '3840 2160',\n",
       " 'QuickTime:EncodedPixelsDimensions': '3840 2160',\n",
       " 'QuickTime:GraphicsMode': 64,\n",
       " 'QuickTime:OpColor': '32768 32768 32768',\n",
       " 'QuickTime:CompressorID': 'avc1',\n",
       " 'QuickTime:SourceImageWidth': 3840,\n",
       " 'QuickTime:SourceImageHeight': 2160,\n",
       " 'QuickTime:XResolution': 72,\n",
       " 'QuickTime:YResolution': 72,\n",
       " 'QuickTime:CompressorName': 'H.264',\n",
       " 'QuickTime:BitDepth': 24,\n",
       " 'QuickTime:VideoFrameRate': 29.7395318166832,\n",
       " 'QuickTime:Balance': 0,\n",
       " 'QuickTime:AudioFormat': 'mp4a',\n",
       " 'QuickTime:AudioChannels': 2,\n",
       " 'QuickTime:AudioBitsPerSample': 16,\n",
       " 'QuickTime:AudioSampleRate': 44100,\n",
       " 'QuickTime:PurchaseFileFormat': 'mp4a',\n",
       " 'QuickTime:MatrixStructure': '1 0 0 0 1 0 0 0 1',\n",
       " 'QuickTime:MediaHeaderVersion': 0,\n",
       " 'QuickTime:MediaCreateDate': '2023:05:31 12:41:31',\n",
       " 'QuickTime:MediaModifyDate': '2023:05:31 12:41:31',\n",
       " 'QuickTime:MediaTimeScale': 600,\n",
       " 'QuickTime:MediaDuration': 14.865,\n",
       " 'QuickTime:MediaLanguageCode': 'und',\n",
       " 'QuickTime:GenMediaVersion': 0,\n",
       " 'QuickTime:GenFlags': '0 0 0',\n",
       " 'QuickTime:GenGraphicsMode': 64,\n",
       " 'QuickTime:GenOpColor': '32768 32768 32768',\n",
       " 'QuickTime:GenBalance': 0,\n",
       " 'QuickTime:HandlerClass': 'dhlr',\n",
       " 'QuickTime:HandlerVendorID': 'appl',\n",
       " 'QuickTime:HandlerDescription': 'Core Media Data Handler',\n",
       " 'QuickTime:MetaFormat': 'mebx',\n",
       " 'QuickTime:HandlerType': 'mdta',\n",
       " 'QuickTime:Make': 'Apple',\n",
       " 'QuickTime:Model': 'iPhone 14 Pro',\n",
       " 'QuickTime:Software': '16.3.1',\n",
       " 'QuickTime:CreationDate': '2023:05:27 10:48:59-04:00',\n",
       " 'Composite:ImageSize': '3840 2160',\n",
       " 'Composite:Megapixels': 8.2944,\n",
       " 'Composite:AvgBitrate': 46142799,\n",
       " 'Composite:Rotation': 0}"
      ]
     },
     "execution_count": 45,
     "metadata": {},
     "output_type": "execute_result"
    }
   ],
   "source": [
    "with ExifToolHelper() as et:\n",
    "    output = et.get_metadata(test_pic)[0]\n",
    "output"
   ]
  },
  {
   "cell_type": "code",
   "execution_count": null,
   "metadata": {},
   "outputs": [],
   "source": [
    "images_list = [path.join(dir,x) for x in listdir(dir) if not x.startswith('.')]\n",
    "images_list"
   ]
  },
  {
   "cell_type": "code",
   "execution_count": null,
   "metadata": {},
   "outputs": [],
   "source": [
    "len(images_list)"
   ]
  },
  {
   "cell_type": "code",
   "execution_count": 11,
   "metadata": {},
   "outputs": [],
   "source": [
    "def get_date(item):\n",
    "    date = False\n",
    "    try:\n",
    "        with ExifToolHelper() as et:\n",
    "            output = et.get_metadata(item)[0]\n",
    "    except:\n",
    "        return(item)\n",
    "    if output.get('EXIF:CreateDate') is not None:\n",
    "        date = output.get('EXIF:CreateDate')\n",
    "    elif output.get('QuickTime:CreateDate') is not None:\n",
    "        date = output.get('QuickTime:CreateDate')\n",
    "    elif output.get('File:FileModifyDate') is not None:\n",
    "        date = output.get('File:FileModifyDate')\n",
    "    \n",
    "    if date == False:\n",
    "        return None\n",
    "    else:\n",
    "        return date"
   ]
  },
  {
   "cell_type": "code",
   "execution_count": 25,
   "metadata": {},
   "outputs": [],
   "source": [
    "def get_media_date(file):\n",
    "        date = None\n",
    "        try:\n",
    "            with ExifToolHelper() as et:\n",
    "                output = et.get_metadata(file)[0]\n",
    "        except:\n",
    "            return None\n",
    "        \n",
    "        # Handle video files specifically\n",
    "        # if file.lower().endswith(('.mov', '.mp4', '.avi')):  # Add other video formats as needed\n",
    "        \n",
    "        if'EXIF:CreateDate' in output:\n",
    "                print('second')\n",
    "                date_str = output['EXIF:CreateDate']\n",
    "                try:\n",
    "                    date = datetime.strptime(date_str, '%Y:%m:%d %H:%M:%S')\n",
    "                except ValueError:\n",
    "                    date = None\n",
    "        elif 'QuickTime:CreationDate' in output:\n",
    "            print('creationdate')\n",
    "            date_str = output['QuickTime:CreationDate']\n",
    "            # Parse the date and time along with the timezone\n",
    "            try:\n",
    "                date = datetime.strptime(date_str, '%Y:%m:%d %H:%M:%S%z').astimezone()\n",
    "            except ValueError:\n",
    "                date = None\n",
    "        elif'EXIF:DateTimeOriginal' in output:\n",
    "                print('third')\n",
    "                date_str = output['EXIF:DateTimeOriginal']\n",
    "                try:\n",
    "                    date = datetime.strptime(date_str, '%Y:%m:%d %H:%M:%S')\n",
    "                except ValueError:\n",
    "                    date = None\n",
    "        elif output.get('File:FileModifyDate'):\n",
    "            print('foruth')\n",
    "            date = output.get('File:FileModifyDate')\n",
    "            date = datetime.strptime(date, '%Y:%m:%d %H:%M:%S%z').astimezone()\n",
    "        else:\n",
    "            date = None\n",
    "            \n",
    "        # Return the date or none\n",
    "        if date:\n",
    "            return date.strftime('%Y-%m-%d %H:%M:%S')\n",
    "        else:\n",
    "            return None"
   ]
  },
  {
   "cell_type": "code",
   "execution_count": 46,
   "metadata": {},
   "outputs": [
    {
     "name": "stdout",
     "output_type": "stream",
     "text": [
      "creationdate\n"
     ]
    },
    {
     "data": {
      "text/plain": [
       "'2023-05-27 10:48:59'"
      ]
     },
     "execution_count": 46,
     "metadata": {},
     "output_type": "execute_result"
    }
   ],
   "source": [
    "get_media_date(test_pic)"
   ]
  },
  {
   "cell_type": "code",
   "execution_count": null,
   "metadata": {},
   "outputs": [],
   "source": []
  },
  {
   "cell_type": "code",
   "execution_count": 15,
   "metadata": {},
   "outputs": [],
   "source": [
    "test_date = get_date(test_pic)"
   ]
  },
  {
   "cell_type": "code",
   "execution_count": 17,
   "metadata": {},
   "outputs": [
    {
     "ename": "ValueError",
     "evalue": "unconverted data remains: -05:00",
     "output_type": "error",
     "traceback": [
      "\u001b[0;31m---------------------------------------------------------------------------\u001b[0m",
      "\u001b[0;31mValueError\u001b[0m                                Traceback (most recent call last)",
      "Cell \u001b[0;32mIn[17], line 1\u001b[0m\n\u001b[0;32m----> 1\u001b[0m \u001b[43mdatetime\u001b[49m\u001b[38;5;241;43m.\u001b[39;49m\u001b[43mstrptime\u001b[49m\u001b[43m(\u001b[49m\u001b[43mtest_date\u001b[49m\u001b[43m,\u001b[49m\u001b[43m \u001b[49m\u001b[38;5;124;43m'\u001b[39;49m\u001b[38;5;124;43m%\u001b[39;49m\u001b[38;5;124;43mY:\u001b[39;49m\u001b[38;5;124;43m%\u001b[39;49m\u001b[38;5;124;43mm:\u001b[39;49m\u001b[38;5;132;43;01m%d\u001b[39;49;00m\u001b[38;5;124;43m \u001b[39;49m\u001b[38;5;124;43m%\u001b[39;49m\u001b[38;5;124;43mH:\u001b[39;49m\u001b[38;5;124;43m%\u001b[39;49m\u001b[38;5;124;43mM:\u001b[39;49m\u001b[38;5;124;43m%\u001b[39;49m\u001b[38;5;124;43mS\u001b[39;49m\u001b[38;5;124;43m'\u001b[39;49m\u001b[43m)\u001b[49m\u001b[38;5;241m.\u001b[39mastimezone()\n",
      "File \u001b[0;32m/usr/lib/python3.10/_strptime.py:568\u001b[0m, in \u001b[0;36m_strptime_datetime\u001b[0;34m(cls, data_string, format)\u001b[0m\n\u001b[1;32m    565\u001b[0m \u001b[38;5;28;01mdef\u001b[39;00m \u001b[38;5;21m_strptime_datetime\u001b[39m(\u001b[38;5;28mcls\u001b[39m, data_string, \u001b[38;5;28mformat\u001b[39m\u001b[38;5;241m=\u001b[39m\u001b[38;5;124m\"\u001b[39m\u001b[38;5;132;01m%a\u001b[39;00m\u001b[38;5;124m \u001b[39m\u001b[38;5;124m%\u001b[39m\u001b[38;5;124mb \u001b[39m\u001b[38;5;132;01m%d\u001b[39;00m\u001b[38;5;124m \u001b[39m\u001b[38;5;124m%\u001b[39m\u001b[38;5;124mH:\u001b[39m\u001b[38;5;124m%\u001b[39m\u001b[38;5;124mM:\u001b[39m\u001b[38;5;124m%\u001b[39m\u001b[38;5;124mS \u001b[39m\u001b[38;5;124m%\u001b[39m\u001b[38;5;124mY\u001b[39m\u001b[38;5;124m\"\u001b[39m):\n\u001b[1;32m    566\u001b[0m \u001b[38;5;250m    \u001b[39m\u001b[38;5;124;03m\"\"\"Return a class cls instance based on the input string and the\u001b[39;00m\n\u001b[1;32m    567\u001b[0m \u001b[38;5;124;03m    format string.\"\"\"\u001b[39;00m\n\u001b[0;32m--> 568\u001b[0m     tt, fraction, gmtoff_fraction \u001b[38;5;241m=\u001b[39m \u001b[43m_strptime\u001b[49m\u001b[43m(\u001b[49m\u001b[43mdata_string\u001b[49m\u001b[43m,\u001b[49m\u001b[43m \u001b[49m\u001b[38;5;28;43mformat\u001b[39;49m\u001b[43m)\u001b[49m\n\u001b[1;32m    569\u001b[0m     tzname, gmtoff \u001b[38;5;241m=\u001b[39m tt[\u001b[38;5;241m-\u001b[39m\u001b[38;5;241m2\u001b[39m:]\n\u001b[1;32m    570\u001b[0m     args \u001b[38;5;241m=\u001b[39m tt[:\u001b[38;5;241m6\u001b[39m] \u001b[38;5;241m+\u001b[39m (fraction,)\n",
      "File \u001b[0;32m/usr/lib/python3.10/_strptime.py:352\u001b[0m, in \u001b[0;36m_strptime\u001b[0;34m(data_string, format)\u001b[0m\n\u001b[1;32m    349\u001b[0m     \u001b[38;5;28;01mraise\u001b[39;00m \u001b[38;5;167;01mValueError\u001b[39;00m(\u001b[38;5;124m\"\u001b[39m\u001b[38;5;124mtime data \u001b[39m\u001b[38;5;132;01m%r\u001b[39;00m\u001b[38;5;124m does not match format \u001b[39m\u001b[38;5;132;01m%r\u001b[39;00m\u001b[38;5;124m\"\u001b[39m \u001b[38;5;241m%\u001b[39m\n\u001b[1;32m    350\u001b[0m                      (data_string, \u001b[38;5;28mformat\u001b[39m))\n\u001b[1;32m    351\u001b[0m \u001b[38;5;28;01mif\u001b[39;00m \u001b[38;5;28mlen\u001b[39m(data_string) \u001b[38;5;241m!=\u001b[39m found\u001b[38;5;241m.\u001b[39mend():\n\u001b[0;32m--> 352\u001b[0m     \u001b[38;5;28;01mraise\u001b[39;00m \u001b[38;5;167;01mValueError\u001b[39;00m(\u001b[38;5;124m\"\u001b[39m\u001b[38;5;124munconverted data remains: \u001b[39m\u001b[38;5;132;01m%s\u001b[39;00m\u001b[38;5;124m\"\u001b[39m \u001b[38;5;241m%\u001b[39m\n\u001b[1;32m    353\u001b[0m                       data_string[found\u001b[38;5;241m.\u001b[39mend():])\n\u001b[1;32m    355\u001b[0m iso_year \u001b[38;5;241m=\u001b[39m year \u001b[38;5;241m=\u001b[39m \u001b[38;5;28;01mNone\u001b[39;00m\n\u001b[1;32m    356\u001b[0m month \u001b[38;5;241m=\u001b[39m day \u001b[38;5;241m=\u001b[39m \u001b[38;5;241m1\u001b[39m\n",
      "\u001b[0;31mValueError\u001b[0m: unconverted data remains: -05:00"
     ]
    }
   ],
   "source": [
    "datetime.strptime(test_date, '%Y:%m:%d %H:%M:%S').astimezone()"
   ]
  },
  {
   "cell_type": "code",
   "execution_count": null,
   "metadata": {},
   "outputs": [],
   "source": [
    "with ThreadPoolExecutor() as executor:\n",
    "    results = list(executor.map(get_date, images_list))"
   ]
  },
  {
   "cell_type": "code",
   "execution_count": null,
   "metadata": {},
   "outputs": [],
   "source": [
    "len(results)"
   ]
  },
  {
   "cell_type": "code",
   "execution_count": null,
   "metadata": {},
   "outputs": [],
   "source": [
    "results"
   ]
  },
  {
   "cell_type": "code",
   "execution_count": null,
   "metadata": {},
   "outputs": [],
   "source": [
    "from datetime import datetime"
   ]
  },
  {
   "cell_type": "code",
   "execution_count": null,
   "metadata": {},
   "outputs": [],
   "source": [
    "new_date = datetime.strptime(results[0].split(' ')[0], \"%Y:%m:%d\")"
   ]
  },
  {
   "cell_type": "code",
   "execution_count": null,
   "metadata": {},
   "outputs": [],
   "source": [
    "new_date.strftime(\"%Y-%m-%d\")\n",
    "                    "
   ]
  },
  {
   "cell_type": "code",
   "execution_count": null,
   "metadata": {},
   "outputs": [],
   "source": [
    "[x for x in results if 'pictures' in x]"
   ]
  },
  {
   "cell_type": "code",
   "execution_count": null,
   "metadata": {},
   "outputs": [],
   "source": [
    "for img in images_list:\n",
    "    date = False\n",
    "    with ExifToolHelper() as et:\n",
    "        output = et.get_metadata(img)[0]\n",
    "    if output.get('EXIF:CreateDate') is not None:\n",
    "        date = True\n",
    "    elif output.get('QuickTime:CreateDate') is not None:\n",
    "        date = True\n",
    "    elif output.get('File:FileModifyDate') is not None:\n",
    "        date = True\n",
    "    \n",
    "    if date == False:\n",
    "        print(img)\n",
    "    "
   ]
  },
  {
   "cell_type": "markdown",
   "metadata": {},
   "source": [
    "# Remove duplicates from a folder"
   ]
  },
  {
   "cell_type": "code",
   "execution_count": null,
   "metadata": {},
   "outputs": [],
   "source": [
    "def find_and_remove_duplicate_files(directory):\n",
    "    # Create a dictionary to store files with the same initial 8 characters\n",
    "    file_dict = {}\n",
    "    \n",
    "    for root, _, files in walk(directory):\n",
    "        for filename in files:\n",
    "            # Extract the first 8 characters of the filename\n",
    "            key = filename[:8]\n",
    "            full_path = path.join(root, filename)\n",
    "            \n",
    "            if key in file_dict:\n",
    "                # A file with the same first 8 characters exists, check for duplicate content\n",
    "                existing_file = file_dict[key]\n",
    "                \n",
    "                # Calculate the hash of the existing file\n",
    "                existing_hash = md5(open(existing_file, 'rb').read()).hexdigest()\n",
    "                \n",
    "                # Calculate the hash of the current file\n",
    "                current_hash = md5(open(full_path, 'rb').read()).hexdigest()\n",
    "                \n",
    "                if existing_hash == current_hash:\n",
    "                    # If hashes are the same, remove the current file\n",
    "                    print(f\"Removing duplicate: {full_path}\")\n",
    "                    # remove(full_path)\n",
    "                else:\n",
    "                    # If hashes are different, add this file to the dictionary\n",
    "                    file_dict[key] = full_path\n",
    "            else:\n",
    "                # No file with the same initial 8 characters, add to the dictionary\n",
    "                file_dict[key] = full_path\n"
   ]
  },
  {
   "cell_type": "code",
   "execution_count": null,
   "metadata": {},
   "outputs": [],
   "source": [
    "# Usage example\n",
    "directory_path = '/mnt/nas/TEST_SORT_OUTPUT/2021-07-24/'\n",
    "find_and_remove_duplicate_files(directory_path)"
   ]
  },
  {
   "cell_type": "code",
   "execution_count": null,
   "metadata": {},
   "outputs": [],
   "source": [
    "def find_and_remove_duplicates(directory):\n",
    "    \"\"\"\n",
    "    Find and remove duplicate files from a list based on their content hash and extension.\n",
    "\n",
    "    Args:\n",
    "        file_list (list): A list of file names to be processed.\n",
    "\n",
    "    Returns:\n",
    "        list: The list with duplicate files removed.\n",
    "    \"\"\"\n",
    "    \n",
    "    images_list = [path.join(directory,x) for x in listdir(directory) if not x.startswith('.')]\n",
    "    images_list.sort()\n",
    "    \n",
    "    # Create a dictionary to store files by their (hash, extension) tuple\n",
    "    file_dict = {}\n",
    "    cleaned_list = []\n",
    "\n",
    "    for filename in images_list:\n",
    "        # Extract the file extension\n",
    "        file_ext = filename.split('.')[-1]\n",
    "\n",
    "        # Calculate the hash of the current file\n",
    "        file_hash = md5(open(filename, 'rb').read()).hexdigest()\n",
    "\n",
    "        # Create a (hash, extension) tuple to check for duplicates\n",
    "        file_tuple = (file_hash, file_ext)\n",
    "\n",
    "        if file_tuple not in file_dict:\n",
    "            # If this (hash, extension) combination is not in the dictionary, add it\n",
    "            file_dict[file_tuple] = filename\n",
    "            cleaned_list.append(filename)\n",
    "        else:\n",
    "            # If it already exists, it's a duplicate, so don't add it to the cleaned list\n",
    "            print(f\"Removing duplicate: {filename}\")\n",
    "\n",
    "    return cleaned_list"
   ]
  },
  {
   "cell_type": "code",
   "execution_count": null,
   "metadata": {},
   "outputs": [],
   "source": [
    "# Remove duplicate files and store the cleaned list\n",
    "cleaned_list = find_and_remove_duplicates(directory_path)\n",
    "\n",
    "# Print the cleaned list\n",
    "# print(\"Cleaned list:\")\n",
    "# for filename in cleaned_list:\n",
    "#     print(filename)"
   ]
  },
  {
   "cell_type": "code",
   "execution_count": null,
   "metadata": {},
   "outputs": [],
   "source": [
    "listdir('/mnt/nas/TEST_SORT_OUTPUT/2021-07-24/')"
   ]
  },
  {
   "cell_type": "code",
   "execution_count": null,
   "metadata": {},
   "outputs": [],
   "source": [
    "dir_check_path = '/mnt/nas/TEST_SORT_OUTPUT/2021-07-24/'\n",
    "list_dir_check = [path.join(dir_check_path,x) for x in listdir(dir_check_path) if not x.startswith('.')]\n",
    "list_dir_check"
   ]
  },
  {
   "cell_type": "code",
   "execution_count": null,
   "metadata": {},
   "outputs": [],
   "source": [
    "for index, item in enumerate(list_dir_check):\n",
    "    key = item.split(\" \")[0]\n",
    "    same_filename = [x for x in list_dir_check if key in x]\n",
    "    same_filename.sort()\n",
    "    if len(same_filename) > 1:\n",
    "        print(same_filename)\n",
    "        temp_list = []\n",
    "        for file in same_filename:\n",
    "            \n",
    "        if index == 2:\n",
    "            break\n",
    "        \n",
    "            \n",
    "    "
   ]
  },
  {
   "cell_type": "code",
   "execution_count": null,
   "metadata": {},
   "outputs": [],
   "source": [
    "# Function to calculate the hash of a file\n",
    "def hash_file(file_path):\n",
    "    hasher = md5()\n",
    "    with open(file_path, 'rb') as f:\n",
    "        while True:\n",
    "            data = f.read(65536)  # Read in 64k chunks\n",
    "            if not data:\n",
    "                break\n",
    "            hasher.update(data)\n",
    "    return hasher.hexdigest()\n",
    "\n",
    "# Directory containing your files\n",
    "directory = '/mnt/nas/TEST_SORT_OUTPUT/2021-07-24/'\n",
    "\n",
    "# Create a dictionary to store file hashes\n",
    "file_hashes = defaultdict(list)\n",
    "\n",
    "# Traverse the directory and calculate hashes for all files\n",
    "for root, dirs, files in walk(directory):\n",
    "    for file in files:\n",
    "        file_path = path.join(root, file)\n",
    "        file_hash = hash_file(file_path)\n",
    "        file_hashes[file_hash].append(file_path)\n",
    "\n",
    "# Find duplicate files\n",
    "duplicates = {hash: paths for hash, paths in file_hashes.items() if len(paths) > 1}\n",
    "\n",
    "# Remove duplicates\n",
    "for paths in duplicates.values():\n",
    "    # Sort by file length, and keep the shortest one\n",
    "    paths.sort(key=len)\n",
    "    for path in paths[1:]:\n",
    "        # remove(path)\n",
    "        print(f\"Removed duplicate: {path}\")\n",
    "\n",
    "print(\"Duplicate removal complete.\")\n"
   ]
  },
  {
   "cell_type": "code",
   "execution_count": null,
   "metadata": {},
   "outputs": [],
   "source": []
  },
  {
   "cell_type": "code",
   "execution_count": null,
   "metadata": {},
   "outputs": [],
   "source": [
    "find_and_remove_duplicate_files(dir_check_path)"
   ]
  },
  {
   "cell_type": "code",
   "execution_count": null,
   "metadata": {},
   "outputs": [],
   "source": [
    "with ThreadPoolExecutor() as executor:\n",
    "    executor.map(find_and_remove_duplicate_files, list_dir_check)"
   ]
  }
 ],
 "metadata": {
  "kernelspec": {
   "display_name": ".ienv",
   "language": "python",
   "name": "python3"
  },
  "language_info": {
   "codemirror_mode": {
    "name": "ipython",
    "version": 3
   },
   "file_extension": ".py",
   "mimetype": "text/x-python",
   "name": "python",
   "nbconvert_exporter": "python",
   "pygments_lexer": "ipython3",
   "version": "3.10.12"
  }
 },
 "nbformat": 4,
 "nbformat_minor": 2
}
